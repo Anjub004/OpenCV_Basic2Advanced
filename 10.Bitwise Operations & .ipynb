{
 "cells": [
  {
   "cell_type": "code",
   "execution_count": 1,
   "id": "eb0b55f2-c64a-42db-8a75-4287e97d3bf7",
   "metadata": {},
   "outputs": [
    {
     "name": "stdout",
     "output_type": "stream",
     "text": [
      "Error: Image not found.\n"
     ]
    }
   ],
   "source": [
    "import cv2\n",
    "import numpy as np\n",
    "import matplotlib.pyplot as plt\n",
    "\n",
    "# Load an image (replace 'image.jpg' with your image file path)\n",
    "image = cv2.imread('image.jpg')\n",
    "if image is None:\n",
    "    print(\"Error: Image not found.\")\n",
    "else:\n",
    "    # Convert the image to grayscale for mask creation\n",
    "    gray = cv2.cvtColor(image, cv2.COLOR_BGR2GRAY)\n",
    "    \n",
    "    # Create a binary mask using thresholding\n",
    "    # Pixels with intensity > 127 become 255 (white), others become 0 (black)\n",
    "    _, mask = cv2.threshold(gray, 127, 255, cv2.THRESH_BINARY)\n",
    "    \n",
    "    # Bitwise AND: Keeps pixels where both the image and mask are non-zero\n",
    "    bitwise_and = cv2.bitwise_and(image, image, mask=mask)\n",
    "    \n",
    "    # Bitwise OR: Combines the image with itself using the mask (result is similar to the image in this case)\n",
    "    bitwise_or = cv2.bitwise_or(image, image, mask=mask)\n",
    "    \n",
    "    # Bitwise XOR: Returns 0 where the image pixels are the same (using the same image produces a black region in the mask area)\n",
    "    bitwise_xor = cv2.bitwise_xor(image, image, mask=mask)\n",
    "    \n",
    "    # Bitwise NOT: Inverts the image colors\n",
    "    bitwise_not = cv2.bitwise_not(image)\n",
    "    \n",
    "    # Convert images from BGR (default in OpenCV) to RGB for proper display with matplotlib\n",
    "    image_rgb = cv2.cvtColor(image, cv2.COLOR_BGR2RGB)\n",
    "    and_rgb   = cv2.cvtColor(bitwise_and, cv2.COLOR_BGR2RGB)\n",
    "    or_rgb    = cv2.cvtColor(bitwise_or, cv2.COLOR_BGR2RGB)\n",
    "    xor_rgb   = cv2.cvtColor(bitwise_xor, cv2.COLOR_BGR2RGB)\n",
    "    not_rgb   = cv2.cvtColor(bitwise_not, cv2.COLOR_BGR2RGB)\n",
    "    \n",
    "    # Plot the results\n",
    "    plt.figure(figsize=(12, 8))\n",
    "    \n",
    "    plt.subplot(2, 3, 1)\n",
    "    plt.imshow(image_rgb)\n",
    "    plt.title(\"Original Image\")\n",
    "    plt.axis('off')\n",
    "    \n",
    "    plt.subplot(2, 3, 2)\n",
    "    plt.imshow(mask, cmap='gray')\n",
    "    plt.title(\"Mask\")\n",
    "    plt.axis('off')\n",
    "    \n",
    "    plt.subplot(2, 3, 3)\n",
    "    plt.imshow(and_rgb)\n",
    "    plt.title(\"Bitwise AND\")\n",
    "    plt.axis('off')\n",
    "    \n",
    "    plt.subplot(2, 3, 4)\n",
    "    plt.imshow(or_rgb)\n",
    "    plt.title(\"Bitwise OR\")\n",
    "    plt.axis('off')\n",
    "    \n",
    "    plt.subplot(2, 3, 5)\n",
    "    plt.imshow(xor_rgb)\n",
    "    plt.title(\"Bitwise XOR\")\n",
    "    plt.axis('off')\n",
    "    \n",
    "    plt.subplot(2, 3, 6)\n",
    "    plt.imshow(not_rgb)\n",
    "    plt.title(\"Bitwise NOT\")\n",
    "    plt.axis('off')\n",
    "    \n",
    "    plt.tight_layout()\n",
    "    plt.show()\n"
   ]
  },
  {
   "cell_type": "code",
   "execution_count": null,
   "id": "de4abc73-10e6-4d0a-b2e7-6f657f6034b6",
   "metadata": {},
   "outputs": [],
   "source": []
  }
 ],
 "metadata": {
  "kernelspec": {
   "display_name": "Python 3 (ipykernel)",
   "language": "python",
   "name": "python3"
  },
  "language_info": {
   "codemirror_mode": {
    "name": "ipython",
    "version": 3
   },
   "file_extension": ".py",
   "mimetype": "text/x-python",
   "name": "python",
   "nbconvert_exporter": "python",
   "pygments_lexer": "ipython3",
   "version": "3.12.4"
  }
 },
 "nbformat": 4,
 "nbformat_minor": 5
}
