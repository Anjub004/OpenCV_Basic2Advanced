{
 "cells": [
  {
   "cell_type": "markdown",
   "id": "4ecfa5c6-0ca5-4c69-9b7f-d6c4069e7ceb",
   "metadata": {},
   "source": [
    "## Translation"
   ]
  },
  {
   "cell_type": "code",
   "execution_count": 2,
   "id": "ff23ed86-7b58-4ce9-b6dd-1256c775d5c4",
   "metadata": {},
   "outputs": [],
   "source": [
    "# Import Dependencies\n",
    "import cv2\n",
    "import numpy as np\n",
    "import matplotlib.pyplot as plt"
   ]
  },
  {
   "cell_type": "code",
   "execution_count": 46,
   "id": "8f08cbb2-ae24-46df-95cb-aacc21f7ca24",
   "metadata": {},
   "outputs": [],
   "source": [
    "# Read Image\n",
    "image = cv2.imread(\"DATA/obama.jpg\")"
   ]
  },
  {
   "cell_type": "code",
   "execution_count": 47,
   "id": "cb50b5b9-f8d8-4616-b1f7-45f445956222",
   "metadata": {},
   "outputs": [
    {
     "name": "stdout",
     "output_type": "stream",
     "text": [
      "<class 'numpy.ndarray'>\n",
      "(1137, 910, 3)\n"
     ]
    }
   ],
   "source": [
    "# Check the type and shape\n",
    "print(type(image))\n",
    "print(image.shape)"
   ]
  },
  {
   "cell_type": "code",
   "execution_count": 50,
   "id": "4bb60c98-abfb-4af1-8004-e19474a11e6e",
   "metadata": {},
   "outputs": [],
   "source": [
    "# \n",
    "cv2.imshow(\"Original\" , image)\n",
    "cv2.waitKey()\n",
    "cv2.destroyAllWindows()"
   ]
  },
  {
   "cell_type": "markdown",
   "id": "2ae4b040-7a3f-4d3f-bc17-fe845ab2f5f3",
   "metadata": {},
   "source": [
    "### Create Function "
   ]
  },
  {
   "cell_type": "code",
   "execution_count": 53,
   "id": "9f073725-4bfe-4b55-9994-a53981eae0ba",
   "metadata": {},
   "outputs": [],
   "source": [
    "def show(img):\n",
    "    cv2.imshow(\"Output\", img)\n",
    "    cv2.waitKey()\n",
    "    cv2.destroyAllWindows()"
   ]
  },
  {
   "cell_type": "code",
   "execution_count": 59,
   "id": "db61685b-0452-4fd2-bf8e-a9efb5324510",
   "metadata": {},
   "outputs": [],
   "source": [
    "def translate(image , x, y):\n",
    "    M = np.float32([[1,0,x],[0,1,y]])\n",
    "    shifted =cv2.warpAffine(image, M , (image.shape[1], image.shape[0]))\n",
    "    return shifted"
   ]
  },
  {
   "cell_type": "code",
   "execution_count": 61,
   "id": "f63652ef-74b6-4e42-8d99-a3acd079ad3e",
   "metadata": {},
   "outputs": [],
   "source": [
    "# Shift Image down\n",
    "a = translate(image , 500, 500)\n",
    "show(a)"
   ]
  },
  {
   "cell_type": "code",
   "execution_count": 63,
   "id": "070373b3-6047-4ed1-baad-c3143ad3f12c",
   "metadata": {},
   "outputs": [],
   "source": [
    "# Shift image up\n",
    "shifted = translate(image , 100,100)\n",
    "cv2.imshow(\"Shifted Up Image \", shifted)\n",
    "cv2.waitKey(0)\n",
    "cv2.destroyAllWindows()"
   ]
  },
  {
   "cell_type": "code",
   "execution_count": 65,
   "id": "1cc87257-a606-4c5c-a691-8d09035d54c3",
   "metadata": {},
   "outputs": [],
   "source": [
    "# Shift image left\n",
    "shifted = translate(image , -100, 0)\n",
    "cv2.imshow(\"Shifted left Image \", shifted)\n",
    "cv2.waitKey(0)\n",
    "cv2.destroyAllWindows()"
   ]
  },
  {
   "cell_type": "code",
   "execution_count": 69,
   "id": "a3dd4ed4-66cf-4184-b2b8-7423b97bbbbb",
   "metadata": {},
   "outputs": [],
   "source": [
    "# def translate_image(image, tx, ty):\n",
    "#     \"\"\"\n",
    "#     Translate the input image by tx pixels along the x-axis and ty pixels along the y-axis.\n",
    "\n",
    "#     Parameters:\n",
    "#         image (numpy.ndarray): Input image.\n",
    "#         tx (int): Translation in pixels along the x-axis.\n",
    "#         ty (int): Translation in pixels along the y-axis.\n",
    "\n",
    "#     Returns:\n",
    "#         numpy.ndarray: Translated image.\n",
    "#     \"\"\"\n",
    "#     # Get image dimensions\n",
    "#     rows, cols = image.shape[:2]\n",
    "    \n",
    "#     # Create the translation matrix\n",
    "#     M = np.float32([[1, 0, tx],\n",
    "#                     [0, 1, ty]])\n",
    "    \n",
    "#     # Apply the translation using warpAffine\n",
    "#     translated_image = cv2.warpAffine(image, M, (cols, rows))\n",
    "#     return translated_image"
   ]
  },
  {
   "cell_type": "code",
   "execution_count": null,
   "id": "678ec3cb-f437-4168-92e7-a38b6ebe08b6",
   "metadata": {},
   "outputs": [],
   "source": []
  }
 ],
 "metadata": {
  "kernelspec": {
   "display_name": "Python 3 (ipykernel)",
   "language": "python",
   "name": "python3"
  },
  "language_info": {
   "codemirror_mode": {
    "name": "ipython",
    "version": 3
   },
   "file_extension": ".py",
   "mimetype": "text/x-python",
   "name": "python",
   "nbconvert_exporter": "python",
   "pygments_lexer": "ipython3",
   "version": "3.12.4"
  }
 },
 "nbformat": 4,
 "nbformat_minor": 5
}
