{
 "cells": [
  {
   "cell_type": "markdown",
   "id": "12e2a661-294f-4ae9-9055-5a8ca79b2385",
   "metadata": {},
   "source": [
    "## Color Spaces"
   ]
  },
  {
   "cell_type": "markdown",
   "id": "298fb7dd-3a20-4dc6-9a5b-b27ba9082650",
   "metadata": {},
   "source": [
    "* OpenCV supports multiple color spaces, which allow different ways of representing color information in an image. Some of the most common color spaces in OpenCV include:\n",
    "\n"
   ]
  },
  {
   "cell_type": "code",
   "execution_count": 70,
   "id": "5e49d973-9cbe-483c-9146-5eff98fae258",
   "metadata": {},
   "outputs": [],
   "source": [
    "import matplotlib.pyplot as plt\n",
    "import seaborn as sns\n",
    "import cv2\n",
    "import numpy as np"
   ]
  },
  {
   "cell_type": "code",
   "execution_count": 25,
   "id": "a7e0ea5b-0777-4b94-bd81-ff317d60efa4",
   "metadata": {},
   "outputs": [],
   "source": [
    "image = cv2.imread(\"DATA/cat.jpeg\")"
   ]
  },
  {
   "cell_type": "code",
   "execution_count": 27,
   "id": "1783fe4b-9eed-4262-8168-c36b389b8896",
   "metadata": {},
   "outputs": [
    {
     "data": {
      "text/plain": [
       "numpy.ndarray"
      ]
     },
     "execution_count": 27,
     "metadata": {},
     "output_type": "execute_result"
    }
   ],
   "source": [
    "type(image)"
   ]
  },
  {
   "cell_type": "code",
   "execution_count": 31,
   "id": "4fece9e1-f0d2-4974-a210-d68f8b7894d1",
   "metadata": {},
   "outputs": [],
   "source": [
    "cv2.imshow(\"OUTPUT\", image)\n",
    "cv2.waitKey()\n",
    "cv2.destroyAllWindows()"
   ]
  },
  {
   "cell_type": "markdown",
   "id": "97c159fb-ad7f-4b3d-9922-bfd6f5ff43a9",
   "metadata": {},
   "source": [
    "### HSV Channel"
   ]
  },
  {
   "cell_type": "code",
   "execution_count": 33,
   "id": "7a1144c3-3f7e-4600-afa2-c3e86013ed93",
   "metadata": {},
   "outputs": [
    {
     "data": {
      "text/plain": [
       "(350, 528, 3)"
      ]
     },
     "execution_count": 33,
     "metadata": {},
     "output_type": "execute_result"
    }
   ],
   "source": [
    "# Showing the size of the image\n",
    "image.shape"
   ]
  },
  {
   "cell_type": "code",
   "execution_count": 37,
   "id": "aa5b5076-ee31-4f9d-93cf-6da4db786d76",
   "metadata": {},
   "outputs": [],
   "source": [
    "# Converting the color channel\n",
    "hsv_image =cv2.cvtColor(image, cv2.COLOR_BGR2HSV)"
   ]
  },
  {
   "cell_type": "code",
   "execution_count": 39,
   "id": "922a1e85-b56a-40bf-95d2-1bdb1bb5c342",
   "metadata": {},
   "outputs": [
    {
     "data": {
      "text/plain": [
       "array([[96, 96, 96, ..., 75, 75, 75],\n",
       "       [96, 96, 96, ..., 75, 75, 75],\n",
       "       [96, 96, 96, ..., 75, 75, 75],\n",
       "       ...,\n",
       "       [ 0,  0,  0, ...,  0,  0,  0],\n",
       "       [ 0,  0,  0, ...,  0,  0,  0],\n",
       "       [ 0,  0,  0, ...,  0,  0,  0]], dtype=uint8)"
      ]
     },
     "execution_count": 39,
     "metadata": {},
     "output_type": "execute_result"
    }
   ],
   "source": [
    "# [start_row:stop_row , start_col :stop_col, channel]\n",
    "hsv_image[: ,: ,0]  "
   ]
  },
  {
   "cell_type": "code",
   "execution_count": 43,
   "id": "fa8fb32b-1c2a-4207-839c-5f0077cc698a",
   "metadata": {},
   "outputs": [],
   "source": [
    "# Checking the according to index\n",
    "cv2.imshow(\"HSV Image\", hsv_image)\n",
    "cv2.imshow(\"Hue Channel\", hsv_image[:,:,0])\n",
    "cv2.imshow(\"Saturated  Channel\", hsv_image[:,:,1])\n",
    "cv2.imshow(\"Value Channel\", hsv_image[:,:,2])\n",
    "cv2.waitKey()\n",
    "cv2.destroyAllWindows()"
   ]
  },
  {
   "cell_type": "markdown",
   "id": "8919f462-c940-49a7-ba2e-7a7b477ddbd4",
   "metadata": {
    "jp-MarkdownHeadingCollapsed": true
   },
   "source": [
    "### RGB Channel"
   ]
  },
  {
   "cell_type": "code",
   "execution_count": 50,
   "id": "acc2bde7-74f3-48b6-81ec-37a1e4c59758",
   "metadata": {},
   "outputs": [],
   "source": [
    "image = cv2.imread(\"DATA/Lena.tiff\")"
   ]
  },
  {
   "cell_type": "code",
   "execution_count": 52,
   "id": "37935431-908d-4f7c-80b8-8f2ff311b99d",
   "metadata": {},
   "outputs": [
    {
     "data": {
      "text/plain": [
       "numpy.ndarray"
      ]
     },
     "execution_count": 52,
     "metadata": {},
     "output_type": "execute_result"
    }
   ],
   "source": [
    "type(image)"
   ]
  },
  {
   "cell_type": "code",
   "execution_count": 54,
   "id": "20b85724-5a2a-4657-83fe-c19c779ea4fb",
   "metadata": {},
   "outputs": [
    {
     "data": {
      "text/plain": [
       "(512, 512, 3)"
      ]
     },
     "execution_count": 54,
     "metadata": {},
     "output_type": "execute_result"
    }
   ],
   "source": [
    "image.shape"
   ]
  },
  {
   "cell_type": "code",
   "execution_count": 56,
   "id": "d2b114cb-0e0d-4a3a-a58c-8c4956c9b84c",
   "metadata": {},
   "outputs": [
    {
     "name": "stdout",
     "output_type": "stream",
     "text": [
      "(512, 512)\n"
     ]
    }
   ],
   "source": [
    "# OpenCV's \"split\" function splitess the imgae into each color index\n",
    "B , G, R = cv2.split(image)\n",
    "print(B.shape)"
   ]
  },
  {
   "cell_type": "code",
   "execution_count": 59,
   "id": "8cbf0a38-e991-4eef-8175-da31cce5b1e9",
   "metadata": {},
   "outputs": [],
   "source": [
    "cv2.imshow(\"org\", image)\n",
    "cv2.imshow(\"Red\", R)\n",
    "cv2.imshow(\"Green\", G)\n",
    "cv2.imshow(\"Blue\", B)\n",
    "cv2.waitKey(0)\n",
    "cv2.destroyAllWindows()"
   ]
  },
  {
   "cell_type": "code",
   "execution_count": 61,
   "id": "40a6daa4-9554-44a6-acd8-2400f6f4bfb2",
   "metadata": {},
   "outputs": [],
   "source": [
    "cv2.destroyAllWindows()"
   ]
  },
  {
   "cell_type": "code",
   "execution_count": 63,
   "id": "b444c25f-c5c0-422b-a5c2-2daafafde304",
   "metadata": {},
   "outputs": [],
   "source": [
    "# Lets make the original image\n",
    "merged = cv2.merge([G , R, B])\n",
    "cv2.imshow(\"Merged\", merged)\n",
    "cv2.waitKey(0)\n",
    "cv2.destroyAllWindows()"
   ]
  },
  {
   "cell_type": "markdown",
   "id": "152850d5-d1bd-4dbe-a990-e3d87578b5da",
   "metadata": {
    "jp-MarkdownHeadingCollapsed": true
   },
   "source": [
    "### For Showing the Particular channel Color"
   ]
  },
  {
   "cell_type": "code",
   "execution_count": 78,
   "id": "89a60ae2-b74d-4c37-addc-5a5e91171bdf",
   "metadata": {},
   "outputs": [],
   "source": [
    "blue, green, red = cv2.split(image)\n"
   ]
  },
  {
   "cell_type": "code",
   "execution_count": 80,
   "id": "8a8904b0-a4a8-4344-9eae-b865eecdd679",
   "metadata": {},
   "outputs": [],
   "source": [
    "blue_channel = image[:, :, 0]  # Blue channel\n",
    "green_channel = image[:, :, 1]  # Green channel\n",
    "red_channel = image[:, :, 2]  # Red channel"
   ]
  },
  {
   "cell_type": "code",
   "execution_count": 82,
   "id": "6053faa1-57ac-4168-8fb8-15725935f940",
   "metadata": {},
   "outputs": [],
   "source": [
    "zeros = np.zeros_like(blue)  # Create a black image with the same size\n",
    "\n",
    "# Create images showing only one color channel at a time\n",
    "blue_image = cv2.merge([blue, zeros, zeros])  # Only Blue\n",
    "green_image = cv2.merge([zeros, green, zeros])  # Only Green\n",
    "red_image = cv2.merge([zeros, zeros, red])  # Only Red\n"
   ]
  },
  {
   "cell_type": "code",
   "execution_count": 85,
   "id": "9e3eb368-e958-464b-a47b-ec2036918ffc",
   "metadata": {},
   "outputs": [],
   "source": [
    "# Showing the Output \n",
    "cv2.imshow(\"Original Image\", image)\n",
    "cv2.imshow(\"Blue Channel\", blue_image)\n",
    "cv2.imshow(\"Green Channel\", green_image)\n",
    "cv2.imshow(\"Red Channel\", red_image)\n",
    "\n",
    "cv2.waitKey(0)  # Wait for a key press\n",
    "cv2.destroyAllWindows()  # Close all windows"
   ]
  },
  {
   "cell_type": "markdown",
   "id": "4129a9f9-bf8d-456b-a4db-5839f942305f",
   "metadata": {},
   "source": [
    "### Can try below code also"
   ]
  },
  {
   "cell_type": "code",
   "execution_count": 89,
   "id": "3e540b08-3206-4c14-b4bf-e1d550ff36d5",
   "metadata": {},
   "outputs": [
    {
     "data": {
      "text/plain": [
       "array([[0., 0., 0., 0., 0.],\n",
       "       [0., 0., 0., 0., 0.],\n",
       "       [0., 0., 0., 0., 0.],\n",
       "       [0., 0., 0., 0., 0.],\n",
       "       [0., 0., 0., 0., 0.]])"
      ]
     },
     "execution_count": 89,
     "metadata": {},
     "output_type": "execute_result"
    }
   ],
   "source": [
    "# Creating the array\n",
    "np.zeros((5,5))"
   ]
  },
  {
   "cell_type": "code",
   "execution_count": 91,
   "id": "88c31edd-98e4-4755-aff3-ef724fba6db4",
   "metadata": {},
   "outputs": [],
   "source": [
    "# Defining the shape of the image \n",
    "z= np.zeros(shape =(image.shape[:2]), dtype =\"uint8\")"
   ]
  },
  {
   "cell_type": "code",
   "execution_count": 93,
   "id": "33d83fc0-b06d-4a83-98f5-1f3c1acb1594",
   "metadata": {},
   "outputs": [],
   "source": [
    "b ,g , r =cv2.split(image)"
   ]
  },
  {
   "cell_type": "code",
   "execution_count": 95,
   "id": "c46198e2-9f2b-451b-a267-c1956e0042cd",
   "metadata": {},
   "outputs": [],
   "source": [
    "# Showing the Output \n",
    "cv2.imshow(\"Original Image\", image)\n",
    "cv2.imshow(\"Blue Channel\", cv2.merge([b, z,z]))\n",
    "cv2.imshow(\"Green Channel\", cv2.merge([z,g,z]))\n",
    "cv2.imshow(\"Red Channel\", cv2.merge([z,z,r]))\n",
    "\n",
    "cv2.waitKey(0)  # Wait for a key press\n",
    "cv2.destroyAllWindows()  # Close all windows"
   ]
  },
  {
   "cell_type": "code",
   "execution_count": null,
   "id": "c55747df-6340-4672-bda8-4e3cf447f769",
   "metadata": {},
   "outputs": [],
   "source": []
  }
 ],
 "metadata": {
  "kernelspec": {
   "display_name": "Python 3 (ipykernel)",
   "language": "python",
   "name": "python3"
  },
  "language_info": {
   "codemirror_mode": {
    "name": "ipython",
    "version": 3
   },
   "file_extension": ".py",
   "mimetype": "text/x-python",
   "name": "python",
   "nbconvert_exporter": "python",
   "pygments_lexer": "ipython3",
   "version": "3.12.4"
  }
 },
 "nbformat": 4,
 "nbformat_minor": 5
}
