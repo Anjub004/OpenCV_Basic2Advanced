{
 "cells": [
  {
   "cell_type": "markdown",
   "id": "8913abd8-ccb6-4c11-8d58-40b92b471f7c",
   "metadata": {},
   "source": [
    "## Rotations"
   ]
  },
  {
   "cell_type": "markdown",
   "id": "e5816df7-3c8d-43d0-afde-4946f4f2e098",
   "metadata": {},
   "source": [
    "### Rotation Matrix:\n",
    "OpenCV provides the function cv2.getRotationMatrix2D(center, angle, scale) which returns a 2×3 transformation matrix.\n",
    "\n",
    "* center: The pivot point for rotation (commonly the image center).\n",
    "* angle: The rotation angle in degrees (positive values rotate counterclockwise).\n",
    "* scale: Scaling factor (1.0 means no scaling)."
   ]
  },
  {
   "cell_type": "code",
   "execution_count": 3,
   "id": "1493dcdf-d994-42a5-8aa4-6a262a5000e0",
   "metadata": {},
   "outputs": [],
   "source": [
    "# Import Dependencies\n",
    "import cv2\n",
    "import numpy as np \n",
    "import matplotlib.pyplot as plt\n"
   ]
  },
  {
   "cell_type": "code",
   "execution_count": 13,
   "id": "58f70baa-bc09-4e7b-a56e-c23fa107ced8",
   "metadata": {},
   "outputs": [],
   "source": [
    "# Read Image\n",
    "image = cv2.imread(\"DATA/Naruto.jpeg\")\n",
    "height,width = image.shape[:2]"
   ]
  },
  {
   "cell_type": "code",
   "execution_count": 7,
   "id": "a55f2b10-477b-4f9d-8037-6399b533ae6e",
   "metadata": {},
   "outputs": [
    {
     "data": {
      "text/plain": [
       "numpy.ndarray"
      ]
     },
     "execution_count": 7,
     "metadata": {},
     "output_type": "execute_result"
    }
   ],
   "source": [
    "type(image)"
   ]
  },
  {
   "cell_type": "code",
   "execution_count": 9,
   "id": "ff90878a-9e98-44f6-88dd-4d68a04b663c",
   "metadata": {},
   "outputs": [
    {
     "data": {
      "text/plain": [
       "(180, 245, 3)"
      ]
     },
     "execution_count": 9,
     "metadata": {},
     "output_type": "execute_result"
    }
   ],
   "source": [
    "image.shape"
   ]
  },
  {
   "cell_type": "code",
   "execution_count": 17,
   "id": "7ab2bcc5-9a06-4eed-8021-6fe82edc8d2d",
   "metadata": {},
   "outputs": [],
   "source": [
    "# Divide by two to rotate the image arount the center\n",
    "rotate_matrix = cv2.getRotationMatrix2D((width/2,height/2), 250 , 0.8)"
   ]
  },
  {
   "cell_type": "code",
   "execution_count": 19,
   "id": "e2813c89-03e4-4df5-9744-23e6cf280e88",
   "metadata": {},
   "outputs": [
    {
     "data": {
      "text/plain": [
       "array([[ -0.27361611,  -0.7517541 , 223.67584274],\n",
       "       [  0.7517541 ,  -0.27361611,  22.53557348]])"
      ]
     },
     "execution_count": 19,
     "metadata": {},
     "output_type": "execute_result"
    }
   ],
   "source": [
    "rotate_matrix"
   ]
  },
  {
   "cell_type": "code",
   "execution_count": 21,
   "id": "28d3bba7-9d82-4ec5-a739-67dcd6c4a9da",
   "metadata": {},
   "outputs": [],
   "source": [
    "rotated_image =cv2.warpAffine(image,\n",
    "                             rotate_matrix,\n",
    "                             (width, height))\n",
    "\n",
    "cv2.imshow(\"Original\", image)\n",
    "cv2.waitKey()\n",
    "cv2.destroyAllWindows()"
   ]
  },
  {
   "cell_type": "code",
   "execution_count": 30,
   "id": "e19be80f-d6e2-4d2d-9b17-773c8f81ad79",
   "metadata": {},
   "outputs": [],
   "source": [
    "# other option to Rotate\n",
    "img = cv2.imread(\"DATA/Nature.jpg\")\n",
    "rotated_image= cv2.transpose(img)\n",
    "cv2.imshow(\"Rotated Image - Method 2\" , rotated_image)\n",
    "cv2.waitKey(0)\n",
    "cv2.destroyAllWindows()"
   ]
  },
  {
   "cell_type": "code",
   "execution_count": 33,
   "id": "67fa8ad4-7c05-47fa-914f-d423dc358898",
   "metadata": {},
   "outputs": [],
   "source": [
    "# Lets now to a horizontal flip \n",
    "flipped =cv2.flip(img , 1)\n",
    "cv2.imshow(\"Horizontal Flip\" , flipped)\n",
    "cv2.waitKey()\n",
    "cv2.destroyAllWindows()"
   ]
  },
  {
   "cell_type": "markdown",
   "id": "c85a4223-1bd7-4f33-ab58-d2707f0fec20",
   "metadata": {},
   "source": [
    "### Create Customer function to rotate image in any point (default is center)"
   ]
  },
  {
   "cell_type": "code",
   "execution_count": 36,
   "id": "5e9075bc-6dd3-4d26-b37d-2102b2ee089b",
   "metadata": {},
   "outputs": [],
   "source": [
    "def rotate_image(image, angle, scale=1.0):\n",
    "    \"\"\"\n",
    "    Rotates the given image by a specified angle around its center.\n",
    "\n",
    "    Parameters:\n",
    "        image (numpy.ndarray): Input image.\n",
    "        angle (float): The rotation angle in degrees. Positive values rotate counterclockwise.\n",
    "        scale (float): Scaling factor. Default is 1.0 (no scaling).\n",
    "\n",
    "    Returns:\n",
    "        numpy.ndarray: Rotated image.\n",
    "    \"\"\"\n",
    "    # Get the dimensions of the image\n",
    "    (h, w) = image.shape[:2]\n",
    "    \n",
    "    # Determine the center of the image\n",
    "    center = (w // 2, h // 2)\n",
    "    \n",
    "    # Obtain the rotation matrix\n",
    "    rotation_matrix = cv2.getRotationMatrix2D(center, angle, scale)\n",
    "    \n",
    "    # Apply the rotation using warpAffine\n",
    "    rotated_image = cv2.warpAffine(image, rotation_matrix, (w, h))\n",
    "    \n",
    "    return rotated_image\n"
   ]
  },
  {
   "cell_type": "code",
   "execution_count": 40,
   "id": "d5ced1f9-a095-4142-9e5d-7f50b3ac5b7e",
   "metadata": {},
   "outputs": [],
   "source": [
    "# rotate the image by 120 deg in center point \n",
    "rot = rotate_image(image , 90)\n",
    "cv2.imshow(\"Rotated Image\", rot)\n",
    "cv2.waitKey()\n",
    "cv2.destroyAllWindows()"
   ]
  },
  {
   "cell_type": "code",
   "execution_count": null,
   "id": "69d6101b-4376-48fd-8cda-466039f2c89f",
   "metadata": {},
   "outputs": [],
   "source": []
  }
 ],
 "metadata": {
  "kernelspec": {
   "display_name": "Python 3 (ipykernel)",
   "language": "python",
   "name": "python3"
  },
  "language_info": {
   "codemirror_mode": {
    "name": "ipython",
    "version": 3
   },
   "file_extension": ".py",
   "mimetype": "text/x-python",
   "name": "python",
   "nbconvert_exporter": "python",
   "pygments_lexer": "ipython3",
   "version": "3.12.4"
  }
 },
 "nbformat": 4,
 "nbformat_minor": 5
}
