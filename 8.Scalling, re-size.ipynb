{
 "cells": [
  {
   "cell_type": "markdown",
   "id": "0d4948af-4fd8-4ade-92d5-e2d97370b0f4",
   "metadata": {},
   "source": [
    "## Scalling :\n",
    "Definition:\n",
    "Scaling is a type of affine transformation that changes the size of an image by multiplying its dimensions by scaling factors along the x-axis and y-axis. For example, scaling an image by 0.5 reduces its width and height by half."
   ]
  },
  {
   "cell_type": "code",
   "execution_count": 2,
   "id": "65ed9ab8-9d59-469d-bca0-a3e0368b0182",
   "metadata": {},
   "outputs": [],
   "source": [
    "# Import dependencies\n",
    "import cv2\n",
    "import numpy as np\n",
    "import matplotlib.pyplot as plt"
   ]
  },
  {
   "cell_type": "code",
   "execution_count": 4,
   "id": "42457e55-4da3-4cc9-9592-c5b89b50dce0",
   "metadata": {},
   "outputs": [],
   "source": [
    "# Read the image file\n",
    "image = cv2.imread(\"DATA/Nature.jpg\")\n",
    "cv2.imshow(\"Input\", image)\n",
    "cv2.waitKey()\n",
    "cv2.destroyAllWindows()"
   ]
  },
  {
   "cell_type": "code",
   "execution_count": 5,
   "id": "a0ec707a-ec05-469f-8eef-52d03dab79f1",
   "metadata": {},
   "outputs": [
    {
     "data": {
      "text/plain": [
       "(1200, 1920, 3)"
      ]
     },
     "execution_count": 5,
     "metadata": {},
     "output_type": "execute_result"
    }
   ],
   "source": [
    "image.shape"
   ]
  },
  {
   "cell_type": "code",
   "execution_count": 8,
   "id": "6c3088a2-a0d8-487f-a78e-2097055e8136",
   "metadata": {},
   "outputs": [],
   "source": [
    "# Lets make out iimage 3/4 of its original size \n",
    "image_scaled = cv2.resize(image,\n",
    "                          None,\n",
    "                          fx= 0.5,\n",
    "                          fy =0.5)"
   ]
  },
  {
   "cell_type": "code",
   "execution_count": 10,
   "id": "9732e77c-164a-4429-9fc7-a867102d2842",
   "metadata": {},
   "outputs": [
    {
     "data": {
      "text/plain": [
       "(600, 960, 3)"
      ]
     },
     "execution_count": 10,
     "metadata": {},
     "output_type": "execute_result"
    }
   ],
   "source": [
    "image_scaled.shape"
   ]
  },
  {
   "cell_type": "code",
   "execution_count": 12,
   "id": "091d8ba3-c8be-41ef-9b67-adf088c74abd",
   "metadata": {},
   "outputs": [],
   "source": [
    "# Display the scaled image\n",
    "cv2.imshow(\"Original\", image)\n",
    "cv2.imshow(\"Scalling -Linear Interpolation\", image_scaled)\n",
    "cv2.waitKey()\n",
    "cv2.destroyAllWindows()"
   ]
  },
  {
   "cell_type": "markdown",
   "id": "23f7430c-fa4b-47e4-9f1d-a6722c96ad8c",
   "metadata": {},
   "source": [
    "### Create the User Define Function"
   ]
  },
  {
   "cell_type": "code",
   "execution_count": 15,
   "id": "46e9fcca-8fa6-41cc-9782-054af2b20ff3",
   "metadata": {},
   "outputs": [],
   "source": [
    "def resize(img, width = None , height = None , inter = cv2.INTER_AREA):\n",
    "\n",
    "    dim = None\n",
    "    (h,w) = img.shape[:2]\n",
    "\n",
    "    if width is None and height is None:\n",
    "        return img\n",
    "\n",
    "    #Calculate new dim based on height given\n",
    "    elif width is None:\n",
    "        r = height/float(h)\n",
    "        dim = (int(w*r), height)\n",
    "        \n",
    "    #Calculate new dim based on height given\n",
    "    elif height is None:\n",
    "        r = width/float(w)\n",
    "        dim = (int(h*r), width)\n",
    "\n",
    "    res =cv2.resize(img , dim, interpolation = inter)\n",
    "\n",
    "    return res\n"
   ]
  },
  {
   "cell_type": "code",
   "execution_count": 19,
   "id": "2a92ad71-01f5-4ac8-a170-9901d563ee9f",
   "metadata": {},
   "outputs": [],
   "source": [
    "image = cv2.imread(\"DATA/DOGS.jpeg\")"
   ]
  },
  {
   "cell_type": "code",
   "execution_count": 21,
   "id": "7d4ad399-45fa-49d7-824e-e74c4731e884",
   "metadata": {},
   "outputs": [
    {
     "data": {
      "text/plain": [
       "numpy.ndarray"
      ]
     },
     "execution_count": 21,
     "metadata": {},
     "output_type": "execute_result"
    }
   ],
   "source": [
    "type(image)"
   ]
  },
  {
   "cell_type": "code",
   "execution_count": 29,
   "id": "216d6e0c-7e51-4260-bdea-ac682657fb6b",
   "metadata": {},
   "outputs": [],
   "source": [
    "# Resizing by the width\n",
    "resized =resize(image , width =500)\n",
    "cv2.imshow(\"Width resized\", resized)\n",
    "cv2.waitKey()\n",
    "cv2.destroyAllWindows()"
   ]
  },
  {
   "cell_type": "code",
   "execution_count": 27,
   "id": "0af40054-b86a-459f-905c-e5f497d94e0f",
   "metadata": {},
   "outputs": [],
   "source": [
    "# Resizing by the Height\n",
    "resized =resize(image , height =200)\n",
    "cv2.imshow(\"Height resized\", resized)\n",
    "cv2.waitKey()\n",
    "cv2.destroyAllWindows()"
   ]
  },
  {
   "cell_type": "code",
   "execution_count": null,
   "id": "236914d7-e1c8-4a2a-89a3-baf5e8e97b1f",
   "metadata": {},
   "outputs": [],
   "source": []
  }
 ],
 "metadata": {
  "kernelspec": {
   "display_name": "Python 3 (ipykernel)",
   "language": "python",
   "name": "python3"
  },
  "language_info": {
   "codemirror_mode": {
    "name": "ipython",
    "version": 3
   },
   "file_extension": ".py",
   "mimetype": "text/x-python",
   "name": "python",
   "nbconvert_exporter": "python",
   "pygments_lexer": "ipython3",
   "version": "3.12.4"
  }
 },
 "nbformat": 4,
 "nbformat_minor": 5
}
